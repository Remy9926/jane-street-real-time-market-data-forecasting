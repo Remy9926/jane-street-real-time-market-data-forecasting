{
 "cells": [
  {
   "cell_type": "code",
   "execution_count": 2,
   "metadata": {},
   "outputs": [],
   "source": [
    "import pandas as pd\n",
    "import os\n",
    "import polars as pl\n",
    "import matplotlib.pyplot as plt\n",
    "import torch\n",
    "from torch import nn\n",
    "import kaggle_evaluation.jane_street_inference_server\n",
    "from sklearn.linear_model import LinearRegression"
   ]
  },
  {
   "cell_type": "markdown",
   "metadata": {},
   "source": [
    "Load in features and responders metadata"
   ]
  },
  {
   "cell_type": "code",
   "execution_count": 36,
   "metadata": {},
   "outputs": [],
   "source": [
    "DIR = \"./jane-street-real-time-market-data-forecasting\"\n",
    "\n",
    "features = pl.read_csv(DIR + \"/features.csv\")\n",
    "responders = pl.read_csv(DIR + \"/responders.csv\")"
   ]
  },
  {
   "cell_type": "markdown",
   "metadata": {},
   "source": [
    "Load in test data"
   ]
  },
  {
   "cell_type": "code",
   "execution_count": 37,
   "metadata": {},
   "outputs": [
    {
     "data": {
      "text/html": [
       "<div><style>\n",
       ".dataframe > thead > tr,\n",
       ".dataframe > tbody > tr {\n",
       "  text-align: right;\n",
       "  white-space: pre-wrap;\n",
       "}\n",
       "</style>\n",
       "<small>shape: (39, 85)</small><table border=\"1\" class=\"dataframe\"><thead><tr><th>row_id</th><th>date_id</th><th>time_id</th><th>symbol_id</th><th>weight</th><th>is_scored</th><th>feature_00</th><th>feature_01</th><th>feature_02</th><th>feature_03</th><th>feature_04</th><th>feature_05</th><th>feature_06</th><th>feature_07</th><th>feature_08</th><th>feature_09</th><th>feature_10</th><th>feature_11</th><th>feature_12</th><th>feature_13</th><th>feature_14</th><th>feature_15</th><th>feature_16</th><th>feature_17</th><th>feature_18</th><th>feature_19</th><th>feature_20</th><th>feature_21</th><th>feature_22</th><th>feature_23</th><th>feature_24</th><th>feature_25</th><th>feature_26</th><th>feature_27</th><th>feature_28</th><th>feature_29</th><th>feature_30</th><th>&hellip;</th><th>feature_42</th><th>feature_43</th><th>feature_44</th><th>feature_45</th><th>feature_46</th><th>feature_47</th><th>feature_48</th><th>feature_49</th><th>feature_50</th><th>feature_51</th><th>feature_52</th><th>feature_53</th><th>feature_54</th><th>feature_55</th><th>feature_56</th><th>feature_57</th><th>feature_58</th><th>feature_59</th><th>feature_60</th><th>feature_61</th><th>feature_62</th><th>feature_63</th><th>feature_64</th><th>feature_65</th><th>feature_66</th><th>feature_67</th><th>feature_68</th><th>feature_69</th><th>feature_70</th><th>feature_71</th><th>feature_72</th><th>feature_73</th><th>feature_74</th><th>feature_75</th><th>feature_76</th><th>feature_77</th><th>feature_78</th></tr><tr><td>i64</td><td>i16</td><td>i16</td><td>i8</td><td>f32</td><td>bool</td><td>f32</td><td>f32</td><td>f32</td><td>f32</td><td>f32</td><td>f32</td><td>f32</td><td>f32</td><td>f32</td><td>f64</td><td>f64</td><td>f64</td><td>f32</td><td>f32</td><td>f32</td><td>f32</td><td>f32</td><td>f32</td><td>f32</td><td>f32</td><td>f32</td><td>f32</td><td>f32</td><td>f32</td><td>f32</td><td>f32</td><td>f32</td><td>f32</td><td>f32</td><td>f32</td><td>f32</td><td>&hellip;</td><td>f32</td><td>f32</td><td>f32</td><td>f32</td><td>f32</td><td>f32</td><td>f32</td><td>f32</td><td>f32</td><td>f32</td><td>f32</td><td>f32</td><td>f32</td><td>f32</td><td>f32</td><td>f32</td><td>f32</td><td>f32</td><td>f32</td><td>f32</td><td>f32</td><td>f32</td><td>f32</td><td>f32</td><td>f32</td><td>f32</td><td>f32</td><td>f32</td><td>f32</td><td>f32</td><td>f32</td><td>f32</td><td>f32</td><td>f32</td><td>f32</td><td>f32</td><td>f32</td></tr></thead><tbody><tr><td>0</td><td>0</td><td>0</td><td>0</td><td>3.169998</td><td>true</td><td>0.0</td><td>0.0</td><td>0.0</td><td>0.0</td><td>0.0</td><td>-0.0</td><td>-0.0</td><td>-0.0</td><td>0.0</td><td>0.0</td><td>0.0</td><td>0.0</td><td>-0.0</td><td>0.0</td><td>0.0</td><td>null</td><td>-0.0</td><td>null</td><td>-0.0</td><td>-0.0</td><td>0.0</td><td>-0.0</td><td>0.0</td><td>0.0</td><td>0.0</td><td>0.0</td><td>0.0</td><td>0.0</td><td>0.0</td><td>-0.0</td><td>-0.0</td><td>&hellip;</td><td>null</td><td>-0.0</td><td>null</td><td>-0.0</td><td>0.0</td><td>-0.0</td><td>0.0</td><td>0.0</td><td>null</td><td>0.0</td><td>null</td><td>null</td><td>-0.0</td><td>null</td><td>-0.0</td><td>0.0</td><td>null</td><td>0.0</td><td>0.0</td><td>-0.0</td><td>-0.0</td><td>-0.0</td><td>-0.0</td><td>-0.0</td><td>-0.0</td><td>-0.0</td><td>0.0</td><td>-0.0</td><td>-0.0</td><td>0.0</td><td>0.0</td><td>null</td><td>null</td><td>0.0</td><td>0.0</td><td>-0.0</td><td>-0.0</td></tr><tr><td>1</td><td>0</td><td>0</td><td>1</td><td>2.165993</td><td>true</td><td>0.0</td><td>-0.0</td><td>0.0</td><td>0.0</td><td>0.0</td><td>-0.0</td><td>-0.0</td><td>-0.0</td><td>0.0</td><td>0.0</td><td>0.0</td><td>0.0</td><td>-0.0</td><td>0.0</td><td>-0.0</td><td>null</td><td>-0.0</td><td>null</td><td>-0.0</td><td>-0.0</td><td>0.0</td><td>-0.0</td><td>0.0</td><td>0.0</td><td>0.0</td><td>0.0</td><td>-0.0</td><td>0.0</td><td>0.0</td><td>-0.0</td><td>-0.0</td><td>&hellip;</td><td>null</td><td>-0.0</td><td>null</td><td>-0.0</td><td>0.0</td><td>0.0</td><td>0.0</td><td>0.0</td><td>null</td><td>0.0</td><td>null</td><td>null</td><td>-0.0</td><td>null</td><td>-0.0</td><td>0.0</td><td>null</td><td>0.0</td><td>0.0</td><td>-0.0</td><td>-0.0</td><td>-0.0</td><td>-0.0</td><td>-0.0</td><td>-0.0</td><td>-0.0</td><td>0.0</td><td>-0.0</td><td>-0.0</td><td>0.0</td><td>-0.0</td><td>null</td><td>null</td><td>0.0</td><td>0.0</td><td>0.0</td><td>0.0</td></tr><tr><td>2</td><td>0</td><td>0</td><td>2</td><td>3.06555</td><td>true</td><td>0.0</td><td>-0.0</td><td>0.0</td><td>0.0</td><td>0.0</td><td>-0.0</td><td>-0.0</td><td>-0.0</td><td>0.0</td><td>0.0</td><td>0.0</td><td>0.0</td><td>-0.0</td><td>0.0</td><td>0.0</td><td>null</td><td>-0.0</td><td>null</td><td>-0.0</td><td>-0.0</td><td>0.0</td><td>-0.0</td><td>0.0</td><td>0.0</td><td>0.0</td><td>-0.0</td><td>0.0</td><td>0.0</td><td>0.0</td><td>-0.0</td><td>-0.0</td><td>&hellip;</td><td>null</td><td>-0.0</td><td>null</td><td>-0.0</td><td>0.0</td><td>-0.0</td><td>-0.0</td><td>-0.0</td><td>null</td><td>0.0</td><td>null</td><td>null</td><td>-0.0</td><td>null</td><td>-0.0</td><td>0.0</td><td>null</td><td>-0.0</td><td>-0.0</td><td>-0.0</td><td>0.0</td><td>-0.0</td><td>-0.0</td><td>-0.0</td><td>-0.0</td><td>-0.0</td><td>0.0</td><td>0.0</td><td>-0.0</td><td>0.0</td><td>0.0</td><td>null</td><td>null</td><td>0.0</td><td>0.0</td><td>-0.0</td><td>-0.0</td></tr><tr><td>3</td><td>0</td><td>0</td><td>3</td><td>2.698642</td><td>true</td><td>0.0</td><td>0.0</td><td>0.0</td><td>0.0</td><td>0.0</td><td>-0.0</td><td>-0.0</td><td>-0.0</td><td>0.0</td><td>0.0</td><td>0.0</td><td>0.0</td><td>-0.0</td><td>0.0</td><td>0.0</td><td>null</td><td>-0.0</td><td>null</td><td>-0.0</td><td>-0.0</td><td>-0.0</td><td>-0.0</td><td>0.0</td><td>0.0</td><td>-0.0</td><td>-0.0</td><td>-0.0</td><td>-0.0</td><td>-0.0</td><td>-0.0</td><td>-0.0</td><td>&hellip;</td><td>null</td><td>-0.0</td><td>null</td><td>-0.0</td><td>0.0</td><td>-0.0</td><td>0.0</td><td>-0.0</td><td>null</td><td>-0.0</td><td>null</td><td>null</td><td>-0.0</td><td>null</td><td>-0.0</td><td>0.0</td><td>null</td><td>-0.0</td><td>-0.0</td><td>-0.0</td><td>-0.0</td><td>-0.0</td><td>-0.0</td><td>-0.0</td><td>-0.0</td><td>-0.0</td><td>0.0</td><td>0.0</td><td>-0.0</td><td>0.0</td><td>0.0</td><td>null</td><td>null</td><td>0.0</td><td>0.0</td><td>-0.0</td><td>-0.0</td></tr><tr><td>4</td><td>0</td><td>0</td><td>4</td><td>1.80333</td><td>true</td><td>0.0</td><td>-0.0</td><td>0.0</td><td>0.0</td><td>0.0</td><td>-0.0</td><td>-0.0</td><td>-0.0</td><td>0.0</td><td>0.0</td><td>0.0</td><td>0.0</td><td>-0.0</td><td>0.0</td><td>-0.0</td><td>null</td><td>-0.0</td><td>null</td><td>-0.0</td><td>-0.0</td><td>-0.0</td><td>0.0</td><td>0.0</td><td>0.0</td><td>0.0</td><td>0.0</td><td>-0.0</td><td>-0.0</td><td>-0.0</td><td>-0.0</td><td>-0.0</td><td>&hellip;</td><td>null</td><td>-0.0</td><td>null</td><td>-0.0</td><td>0.0</td><td>0.0</td><td>0.0</td><td>0.0</td><td>null</td><td>0.0</td><td>null</td><td>null</td><td>-0.0</td><td>null</td><td>-0.0</td><td>0.0</td><td>null</td><td>-0.0</td><td>-0.0</td><td>-0.0</td><td>-0.0</td><td>-0.0</td><td>-0.0</td><td>-0.0</td><td>-0.0</td><td>-0.0</td><td>0.0</td><td>-0.0</td><td>-0.0</td><td>0.0</td><td>-0.0</td><td>null</td><td>null</td><td>0.0</td><td>0.0</td><td>0.0</td><td>0.0</td></tr><tr><td>&hellip;</td><td>&hellip;</td><td>&hellip;</td><td>&hellip;</td><td>&hellip;</td><td>&hellip;</td><td>&hellip;</td><td>&hellip;</td><td>&hellip;</td><td>&hellip;</td><td>&hellip;</td><td>&hellip;</td><td>&hellip;</td><td>&hellip;</td><td>&hellip;</td><td>&hellip;</td><td>&hellip;</td><td>&hellip;</td><td>&hellip;</td><td>&hellip;</td><td>&hellip;</td><td>&hellip;</td><td>&hellip;</td><td>&hellip;</td><td>&hellip;</td><td>&hellip;</td><td>&hellip;</td><td>&hellip;</td><td>&hellip;</td><td>&hellip;</td><td>&hellip;</td><td>&hellip;</td><td>&hellip;</td><td>&hellip;</td><td>&hellip;</td><td>&hellip;</td><td>&hellip;</td><td>&hellip;</td><td>&hellip;</td><td>&hellip;</td><td>&hellip;</td><td>&hellip;</td><td>&hellip;</td><td>&hellip;</td><td>&hellip;</td><td>&hellip;</td><td>&hellip;</td><td>&hellip;</td><td>&hellip;</td><td>&hellip;</td><td>&hellip;</td><td>&hellip;</td><td>&hellip;</td><td>&hellip;</td><td>&hellip;</td><td>&hellip;</td><td>&hellip;</td><td>&hellip;</td><td>&hellip;</td><td>&hellip;</td><td>&hellip;</td><td>&hellip;</td><td>&hellip;</td><td>&hellip;</td><td>&hellip;</td><td>&hellip;</td><td>&hellip;</td><td>&hellip;</td><td>&hellip;</td><td>&hellip;</td><td>&hellip;</td><td>&hellip;</td><td>&hellip;</td><td>&hellip;</td><td>&hellip;</td></tr><tr><td>34</td><td>0</td><td>0</td><td>34</td><td>3.240565</td><td>true</td><td>0.0</td><td>-0.0</td><td>0.0</td><td>0.0</td><td>0.0</td><td>-0.0</td><td>-0.0</td><td>-0.0</td><td>0.0</td><td>0.0</td><td>0.0</td><td>0.0</td><td>-0.0</td><td>0.0</td><td>0.0</td><td>null</td><td>-0.0</td><td>null</td><td>-0.0</td><td>-0.0</td><td>0.0</td><td>-0.0</td><td>0.0</td><td>0.0</td><td>0.0</td><td>-0.0</td><td>-0.0</td><td>0.0</td><td>0.0</td><td>-0.0</td><td>-0.0</td><td>&hellip;</td><td>null</td><td>-0.0</td><td>null</td><td>-0.0</td><td>-0.0</td><td>-0.0</td><td>-0.0</td><td>-0.0</td><td>null</td><td>-0.0</td><td>null</td><td>null</td><td>-0.0</td><td>null</td><td>-0.0</td><td>-0.0</td><td>null</td><td>-0.0</td><td>-0.0</td><td>-0.0</td><td>-0.0</td><td>-0.0</td><td>-0.0</td><td>-0.0</td><td>-0.0</td><td>-0.0</td><td>0.0</td><td>0.0</td><td>-0.0</td><td>0.0</td><td>0.0</td><td>null</td><td>null</td><td>0.0</td><td>0.0</td><td>0.0</td><td>0.0</td></tr><tr><td>35</td><td>0</td><td>0</td><td>35</td><td>1.057221</td><td>true</td><td>0.0</td><td>-0.0</td><td>0.0</td><td>0.0</td><td>0.0</td><td>-0.0</td><td>-0.0</td><td>-0.0</td><td>0.0</td><td>0.0</td><td>0.0</td><td>0.0</td><td>-0.0</td><td>0.0</td><td>-0.0</td><td>null</td><td>-0.0</td><td>null</td><td>-0.0</td><td>-0.0</td><td>-0.0</td><td>-0.0</td><td>-0.0</td><td>-0.0</td><td>0.0</td><td>-0.0</td><td>0.0</td><td>-0.0</td><td>-0.0</td><td>-0.0</td><td>-0.0</td><td>&hellip;</td><td>null</td><td>0.0</td><td>null</td><td>-0.0</td><td>0.0</td><td>0.0</td><td>0.0</td><td>0.0</td><td>null</td><td>0.0</td><td>null</td><td>null</td><td>0.0</td><td>null</td><td>-0.0</td><td>0.0</td><td>null</td><td>0.0</td><td>0.0</td><td>-0.0</td><td>-0.0</td><td>-0.0</td><td>-0.0</td><td>-0.0</td><td>-0.0</td><td>-0.0</td><td>-0.0</td><td>-0.0</td><td>-0.0</td><td>0.0</td><td>-0.0</td><td>null</td><td>null</td><td>0.0</td><td>0.0</td><td>-0.0</td><td>-0.0</td></tr><tr><td>36</td><td>0</td><td>0</td><td>36</td><td>0.907022</td><td>true</td><td>0.0</td><td>-0.0</td><td>0.0</td><td>0.0</td><td>0.0</td><td>-0.0</td><td>-0.0</td><td>-0.0</td><td>0.0</td><td>0.0</td><td>0.0</td><td>0.0</td><td>-0.0</td><td>0.0</td><td>-0.0</td><td>null</td><td>-0.0</td><td>null</td><td>-0.0</td><td>-0.0</td><td>-0.0</td><td>null</td><td>-0.0</td><td>-0.0</td><td>0.0</td><td>-0.0</td><td>null</td><td>null</td><td>-0.0</td><td>-0.0</td><td>-0.0</td><td>&hellip;</td><td>null</td><td>-0.0</td><td>null</td><td>-0.0</td><td>0.0</td><td>-0.0</td><td>0.0</td><td>0.0</td><td>null</td><td>0.0</td><td>null</td><td>null</td><td>0.0</td><td>null</td><td>-0.0</td><td>0.0</td><td>null</td><td>0.0</td><td>0.0</td><td>-0.0</td><td>-0.0</td><td>-0.0</td><td>-0.0</td><td>-0.0</td><td>-0.0</td><td>-0.0</td><td>0.0</td><td>-0.0</td><td>-0.0</td><td>0.0</td><td>-0.0</td><td>null</td><td>null</td><td>0.0</td><td>0.0</td><td>0.0</td><td>0.0</td></tr><tr><td>37</td><td>0</td><td>0</td><td>37</td><td>1.393967</td><td>true</td><td>0.0</td><td>-0.0</td><td>0.0</td><td>0.0</td><td>0.0</td><td>-0.0</td><td>-0.0</td><td>-0.0</td><td>0.0</td><td>0.0</td><td>0.0</td><td>0.0</td><td>-0.0</td><td>0.0</td><td>-0.0</td><td>null</td><td>-0.0</td><td>null</td><td>-0.0</td><td>-0.0</td><td>-0.0</td><td>-0.0</td><td>-0.0</td><td>0.0</td><td>0.0</td><td>-0.0</td><td>0.0</td><td>0.0</td><td>-0.0</td><td>-0.0</td><td>-0.0</td><td>&hellip;</td><td>null</td><td>-0.0</td><td>null</td><td>-0.0</td><td>0.0</td><td>0.0</td><td>0.0</td><td>0.0</td><td>null</td><td>0.0</td><td>null</td><td>null</td><td>0.0</td><td>null</td><td>-0.0</td><td>0.0</td><td>null</td><td>0.0</td><td>0.0</td><td>-0.0</td><td>-0.0</td><td>-0.0</td><td>-0.0</td><td>-0.0</td><td>-0.0</td><td>-0.0</td><td>0.0</td><td>-0.0</td><td>-0.0</td><td>0.0</td><td>-0.0</td><td>null</td><td>null</td><td>0.0</td><td>0.0</td><td>0.0</td><td>0.0</td></tr><tr><td>38</td><td>0</td><td>0</td><td>38</td><td>4.100645</td><td>true</td><td>0.0</td><td>0.0</td><td>0.0</td><td>0.0</td><td>0.0</td><td>-0.0</td><td>-0.0</td><td>-0.0</td><td>0.0</td><td>0.0</td><td>0.0</td><td>0.0</td><td>-0.0</td><td>0.0</td><td>0.0</td><td>null</td><td>-0.0</td><td>null</td><td>-0.0</td><td>-0.0</td><td>-0.0</td><td>-0.0</td><td>0.0</td><td>0.0</td><td>-0.0</td><td>-0.0</td><td>0.0</td><td>0.0</td><td>0.0</td><td>-0.0</td><td>-0.0</td><td>&hellip;</td><td>null</td><td>-0.0</td><td>null</td><td>-0.0</td><td>0.0</td><td>-0.0</td><td>-0.0</td><td>-0.0</td><td>null</td><td>0.0</td><td>null</td><td>null</td><td>-0.0</td><td>null</td><td>-0.0</td><td>0.0</td><td>null</td><td>-0.0</td><td>-0.0</td><td>-0.0</td><td>-0.0</td><td>-0.0</td><td>-0.0</td><td>-0.0</td><td>-0.0</td><td>-0.0</td><td>0.0</td><td>0.0</td><td>-0.0</td><td>0.0</td><td>-0.0</td><td>null</td><td>null</td><td>0.0</td><td>0.0</td><td>-0.0</td><td>-0.0</td></tr></tbody></table></div>"
      ],
      "text/plain": [
       "shape: (39, 85)\n",
       "┌────────┬─────────┬─────────┬───────────┬───┬────────────┬────────────┬────────────┬────────────┐\n",
       "│ row_id ┆ date_id ┆ time_id ┆ symbol_id ┆ … ┆ feature_75 ┆ feature_76 ┆ feature_77 ┆ feature_78 │\n",
       "│ ---    ┆ ---     ┆ ---     ┆ ---       ┆   ┆ ---        ┆ ---        ┆ ---        ┆ ---        │\n",
       "│ i64    ┆ i16     ┆ i16     ┆ i8        ┆   ┆ f32        ┆ f32        ┆ f32        ┆ f32        │\n",
       "╞════════╪═════════╪═════════╪═══════════╪═══╪════════════╪════════════╪════════════╪════════════╡\n",
       "│ 0      ┆ 0       ┆ 0       ┆ 0         ┆ … ┆ 0.0        ┆ 0.0        ┆ -0.0       ┆ -0.0       │\n",
       "│ 1      ┆ 0       ┆ 0       ┆ 1         ┆ … ┆ 0.0        ┆ 0.0        ┆ 0.0        ┆ 0.0        │\n",
       "│ 2      ┆ 0       ┆ 0       ┆ 2         ┆ … ┆ 0.0        ┆ 0.0        ┆ -0.0       ┆ -0.0       │\n",
       "│ 3      ┆ 0       ┆ 0       ┆ 3         ┆ … ┆ 0.0        ┆ 0.0        ┆ -0.0       ┆ -0.0       │\n",
       "│ 4      ┆ 0       ┆ 0       ┆ 4         ┆ … ┆ 0.0        ┆ 0.0        ┆ 0.0        ┆ 0.0        │\n",
       "│ …      ┆ …       ┆ …       ┆ …         ┆ … ┆ …          ┆ …          ┆ …          ┆ …          │\n",
       "│ 34     ┆ 0       ┆ 0       ┆ 34        ┆ … ┆ 0.0        ┆ 0.0        ┆ 0.0        ┆ 0.0        │\n",
       "│ 35     ┆ 0       ┆ 0       ┆ 35        ┆ … ┆ 0.0        ┆ 0.0        ┆ -0.0       ┆ -0.0       │\n",
       "│ 36     ┆ 0       ┆ 0       ┆ 36        ┆ … ┆ 0.0        ┆ 0.0        ┆ 0.0        ┆ 0.0        │\n",
       "│ 37     ┆ 0       ┆ 0       ┆ 37        ┆ … ┆ 0.0        ┆ 0.0        ┆ 0.0        ┆ 0.0        │\n",
       "│ 38     ┆ 0       ┆ 0       ┆ 38        ┆ … ┆ 0.0        ┆ 0.0        ┆ -0.0       ┆ -0.0       │\n",
       "└────────┴─────────┴─────────┴───────────┴───┴────────────┴────────────┴────────────┴────────────┘"
      ]
     },
     "execution_count": 37,
     "metadata": {},
     "output_type": "execute_result"
    }
   ],
   "source": [
    "test = pl.read_parquet(DIR + \"/test.parquet/date_id=0/part-0.parquet\")\n",
    "test"
   ]
  },
  {
   "cell_type": "code",
   "execution_count": 38,
   "metadata": {},
   "outputs": [],
   "source": [
    "def read_in_data():\n",
    "    base_str = \"/train.parquet\"\n",
    "    filename = \"/part-0.parquet\"\n",
    "\n",
    "    data_by_id = {}\n",
    "    dropped_nulls = {}\n",
    "    \n",
    "    #read in all the data\n",
    "    for i in range(10):\n",
    "        partition = \"/partition_id=\" + str(i)\n",
    "        read = pl.read_parquet(DIR + base_str + partition + filename)\n",
    "        read = read[:len(read) // 2]\n",
    "        ids = read['symbol_id'].unique()\n",
    "\n",
    "        for i in range(len(ids)):\n",
    "            symbol_id = int(ids[i])\n",
    "            filtered = read.filter(pl.col(\"symbol_id\") == symbol_id)\n",
    "            \n",
    "            #drop weight column since it only influences scoring\n",
    "            filtered.drop_in_place('weight')\n",
    "            \n",
    "            if symbol_id not in data_by_id:\n",
    "                data_by_id[symbol_id] = filtered\n",
    "            else:\n",
    "                data_by_id[symbol_id].extend(filtered)\n",
    "\n",
    "    for symbol_id in data_by_id.keys():\n",
    "        symbol_id = int(symbol_id)\n",
    "\n",
    "        if symbol_id not in dropped_nulls:\n",
    "            dropped_nulls[symbol_id] = data_by_id[symbol_id].drop_nulls()\n",
    "        else:\n",
    "            dropped_nulls[symbol_id].extend(data_by_id[symbol_id].drop_nulls())\n",
    "        \n",
    "    agg_data = {}\n",
    "    \n",
    "    for symbol_id in dropped_nulls.keys():\n",
    "        symbol_id = int(symbol_id)\n",
    "        new_df = pl.DataFrame()\n",
    "        curr_df = dropped_nulls[symbol_id]\n",
    "        time_ids = curr_df['date_id'].unique()\n",
    "\n",
    "        for j in range(len(time_ids)):\n",
    "            curr_time_id = time_ids[j]\n",
    "            same_time = curr_df.filter(pl.col('date_id') == curr_time_id)\n",
    "            total = len(same_time)\n",
    "            \n",
    "            if new_df.is_empty():\n",
    "                new_df = pl.DataFrame(same_time.sum() / total)\n",
    "            else:\n",
    "                new_df.extend(same_time.sum() / total)\n",
    "    \n",
    "        new_df.drop_in_place('time_id')\n",
    "        agg_data[symbol_id] = new_df\n",
    "\n",
    "    agg_training_data = pl.DataFrame()\n",
    "\n",
    "    for i in range(len(ids)):\n",
    "        symbol_id = ids[i]\n",
    "        \n",
    "        if agg_training_data.is_empty():\n",
    "            agg_training_data = pl.concat([agg_training_data, agg_data[symbol_id]])\n",
    "        \n",
    "        else:\n",
    "            agg_training_data.extend(agg_data[symbol_id])\n",
    "    \n",
    "    return agg_training_data, agg_training_data['symbol_id'].unique()\n",
    "\n",
    "train, ids = read_in_data()"
   ]
  },
  {
   "cell_type": "code",
   "execution_count": null,
   "metadata": {},
   "outputs": [
    {
     "data": {
      "text/html": [
       "<div><style>\n",
       ".dataframe > thead > tr,\n",
       ".dataframe > tbody > tr {\n",
       "  text-align: right;\n",
       "  white-space: pre-wrap;\n",
       "}\n",
       "</style>\n",
       "<small>shape: (19_994, 90)</small><table border=\"1\" class=\"dataframe\"><thead><tr><th>date_id</th><th>symbol_id</th><th>feature_00</th><th>feature_01</th><th>feature_02</th><th>feature_03</th><th>feature_04</th><th>feature_05</th><th>feature_06</th><th>feature_07</th><th>feature_08</th><th>feature_09</th><th>feature_10</th><th>feature_11</th><th>feature_12</th><th>feature_13</th><th>feature_14</th><th>feature_15</th><th>feature_16</th><th>feature_17</th><th>feature_18</th><th>feature_19</th><th>feature_20</th><th>feature_21</th><th>feature_22</th><th>feature_23</th><th>feature_24</th><th>feature_25</th><th>feature_26</th><th>feature_27</th><th>feature_28</th><th>feature_29</th><th>feature_30</th><th>feature_31</th><th>feature_32</th><th>feature_33</th><th>feature_34</th><th>&hellip;</th><th>feature_51</th><th>feature_52</th><th>feature_53</th><th>feature_54</th><th>feature_55</th><th>feature_56</th><th>feature_57</th><th>feature_58</th><th>feature_59</th><th>feature_60</th><th>feature_61</th><th>feature_62</th><th>feature_63</th><th>feature_64</th><th>feature_65</th><th>feature_66</th><th>feature_67</th><th>feature_68</th><th>feature_69</th><th>feature_70</th><th>feature_71</th><th>feature_72</th><th>feature_73</th><th>feature_74</th><th>feature_75</th><th>feature_76</th><th>feature_77</th><th>feature_78</th><th>responder_0</th><th>responder_1</th><th>responder_2</th><th>responder_3</th><th>responder_4</th><th>responder_5</th><th>responder_6</th><th>responder_7</th><th>responder_8</th></tr><tr><td>f64</td><td>f64</td><td>f64</td><td>f64</td><td>f64</td><td>f64</td><td>f64</td><td>f64</td><td>f64</td><td>f64</td><td>f64</td><td>f64</td><td>f64</td><td>f64</td><td>f64</td><td>f64</td><td>f64</td><td>f64</td><td>f64</td><td>f64</td><td>f64</td><td>f64</td><td>f64</td><td>f64</td><td>f64</td><td>f64</td><td>f64</td><td>f64</td><td>f64</td><td>f64</td><td>f64</td><td>f64</td><td>f64</td><td>f64</td><td>f64</td><td>f64</td><td>f64</td><td>&hellip;</td><td>f64</td><td>f64</td><td>f64</td><td>f64</td><td>f64</td><td>f64</td><td>f64</td><td>f64</td><td>f64</td><td>f64</td><td>f64</td><td>f64</td><td>f64</td><td>f64</td><td>f64</td><td>f64</td><td>f64</td><td>f64</td><td>f64</td><td>f64</td><td>f64</td><td>f64</td><td>f64</td><td>f64</td><td>f64</td><td>f64</td><td>f64</td><td>f64</td><td>f64</td><td>f64</td><td>f64</td><td>f64</td><td>f64</td><td>f64</td><td>f64</td><td>f64</td><td>f64</td></tr></thead><tbody><tr><td>553.0</td><td>0.0</td><td>2.013941</td><td>1.292343</td><td>1.81205</td><td>1.849068</td><td>0.440201</td><td>0.948113</td><td>0.122665</td><td>0.4326</td><td>-2.127602</td><td>11.0</td><td>7.0</td><td>76.0</td><td>1.912674</td><td>0.706286</td><td>1.241098</td><td>-0.315865</td><td>-0.197647</td><td>-0.276523</td><td>1.029011</td><td>-1.089639</td><td>2.318863</td><td>-0.148865</td><td>0.595681</td><td>0.824761</td><td>0.621569</td><td>0.37841</td><td>1.108164</td><td>1.495799</td><td>1.130262</td><td>0.022011</td><td>-0.17891</td><td>-0.32181</td><td>2.573313</td><td>-0.424322</td><td>2.831493</td><td>&hellip;</td><td>0.455364</td><td>0.599965</td><td>-1.071355</td><td>-0.443253</td><td>-0.68296</td><td>-0.204628</td><td>-2.378987</td><td>-0.940073</td><td>-0.158733</td><td>-0.376406</td><td>-1.592721</td><td>-0.172186</td><td>-0.078757</td><td>-0.124456</td><td>0.996328</td><td>-0.995877</td><td>1.859685</td><td>0.611992</td><td>1.169616</td><td>1.73828</td><td>0.571538</td><td>1.171094</td><td>-0.236857</td><td>-0.505843</td><td>-0.165729</td><td>-0.38803</td><td>-0.192449</td><td>-0.429288</td><td>-0.075958</td><td>0.036015</td><td>-0.03608</td><td>0.490821</td><td>1.242675</td><td>0.156754</td><td>0.703481</td><td>1.356552</td><td>0.290338</td></tr><tr><td>554.0</td><td>0.0</td><td>1.308025</td><td>0.165198</td><td>1.290724</td><td>1.267263</td><td>-0.214182</td><td>-0.34573</td><td>-0.073516</td><td>-0.18006</td><td>0.511139</td><td>11.0</td><td>7.0</td><td>76.0</td><td>0.480354</td><td>0.141877</td><td>0.275949</td><td>-0.34648</td><td>-0.278102</td><td>-0.36054</td><td>1.031542</td><td>-1.008696</td><td>2.247149</td><td>-0.296195</td><td>0.4439</td><td>0.684728</td><td>1.037862</td><td>1.370785</td><td>1.043949</td><td>1.576174</td><td>0.869166</td><td>-0.050006</td><td>-0.331859</td><td>-0.148651</td><td>2.331386</td><td>-0.724733</td><td>2.642955</td><td>&hellip;</td><td>0.14347</td><td>0.172195</td><td>-0.503926</td><td>-0.15869</td><td>-0.176066</td><td>-0.654094</td><td>-1.81148</td><td>-0.614141</td><td>-0.066149</td><td>-0.210956</td><td>-1.43251</td><td>-0.313611</td><td>-0.230842</td><td>-0.274072</td><td>1.019645</td><td>-1.188255</td><td>0.431414</td><td>0.106297</td><td>0.226803</td><td>0.489445</td><td>0.131714</td><td>0.282938</td><td>-0.286459</td><td>-0.482672</td><td>-0.200277</td><td>-0.37504</td><td>-0.229373</td><td>-0.413216</td><td>-0.009159</td><td>-0.256007</td><td>-0.001491</td><td>-0.023604</td><td>-0.169132</td><td>0.008305</td><td>-0.006774</td><td>-0.155766</td><td>0.033297</td></tr><tr><td>555.0</td><td>0.0</td><td>1.258477</td><td>-0.076692</td><td>1.285174</td><td>1.292239</td><td>-0.027652</td><td>0.011702</td><td>-0.032355</td><td>-0.117747</td><td>-0.329927</td><td>11.0</td><td>7.0</td><td>76.0</td><td>0.095979</td><td>-0.05203</td><td>-0.043304</td><td>-0.375075</td><td>-0.32719</td><td>-0.394974</td><td>-0.590368</td><td>0.509876</td><td>1.947477</td><td>-0.134973</td><td>0.797803</td><td>0.470683</td><td>1.54787</td><td>1.530932</td><td>0.837595</td><td>1.704533</td><td>1.162891</td><td>-0.104783</td><td>-0.419231</td><td>-0.139533</td><td>2.432508</td><td>0.626563</td><td>2.530757</td><td>&hellip;</td><td>0.15733</td><td>0.340143</td><td>-0.463043</td><td>-0.142314</td><td>-0.293874</td><td>0.716893</td><td>-0.170615</td><td>0.285231</td><td>0.01056</td><td>0.089889</td><td>-0.972459</td><td>-0.270933</td><td>-0.235193</td><td>-0.283959</td><td>0.248875</td><td>0.473726</td><td>0.088685</td><td>-0.032585</td><td>-0.021892</td><td>0.11108</td><td>-0.056707</td><td>-0.046041</td><td>-0.273585</td><td>-0.193488</td><td>-0.200692</td><td>-0.135081</td><td>-0.231391</td><td>-0.160426</td><td>0.010026</td><td>0.175302</td><td>0.014204</td><td>-0.148629</td><td>-0.395728</td><td>-0.050435</td><td>-0.173552</td><td>-0.375334</td><td>-0.076376</td></tr><tr><td>556.0</td><td>0.0</td><td>1.300598</td><td>-0.435179</td><td>1.344048</td><td>1.360433</td><td>-0.079506</td><td>-0.154848</td><td>-0.040517</td><td>-0.07214</td><td>0.096866</td><td>11.0</td><td>7.0</td><td>76.0</td><td>-0.405203</td><td>-0.19701</td><td>-0.314084</td><td>-0.420815</td><td>-0.382657</td><td>-0.453053</td><td>0.660968</td><td>0.336354</td><td>1.771308</td><td>-0.138153</td><td>0.971693</td><td>0.485427</td><td>1.569678</td><td>2.036034</td><td>0.48541</td><td>2.13282</td><td>0.599653</td><td>-0.097419</td><td>-0.392113</td><td>-0.228418</td><td>2.336106</td><td>0.380331</td><td>2.453971</td><td>&hellip;</td><td>0.074362</td><td>0.149768</td><td>-0.015907</td><td>-0.020577</td><td>0.038686</td><td>-0.197894</td><td>-0.207483</td><td>0.058592</td><td>0.033355</td><td>0.114532</td><td>-1.34787</td><td>-0.31822</td><td>-0.255906</td><td>-0.289804</td><td>0.611474</td><td>0.279397</td><td>-0.346319</td><td>-0.158782</td><td>-0.266736</td><td>-0.468607</td><td>-0.17626</td><td>-0.326921</td><td>-0.313497</td><td>-0.309443</td><td>-0.218738</td><td>-0.218206</td><td>-0.253521</td><td>-0.249093</td><td>-0.030639</td><td>0.04139</td><td>-0.011425</td><td>-0.151082</td><td>-0.447164</td><td>-0.053367</td><td>-0.178785</td><td>-0.522276</td><td>-0.075699</td></tr><tr><td>557.0</td><td>0.0</td><td>1.3553</td><td>0.187724</td><td>1.37292</td><td>1.367534</td><td>0.055384</td><td>-0.120693</td><td>0.02717</td><td>0.017194</td><td>0.5196</td><td>11.0</td><td>7.0</td><td>76.0</td><td>-0.29855</td><td>-0.195138</td><td>-0.280807</td><td>-0.454103</td><td>-0.352025</td><td>-0.444179</td><td>-0.214674</td><td>0.176963</td><td>1.77234</td><td>-0.13776</td><td>0.990729</td><td>0.797231</td><td>1.795312</td><td>2.490952</td><td>1.177066</td><td>1.617606</td><td>0.692354</td><td>-0.064785</td><td>-0.279548</td><td>-0.115602</td><td>1.986285</td><td>-0.245855</td><td>2.120705</td><td>&hellip;</td><td>-0.187605</td><td>-0.09223</td><td>-0.01483</td><td>-0.207884</td><td>-0.041343</td><td>0.283939</td><td>-0.131335</td><td>0.132035</td><td>0.023157</td><td>0.066708</td><td>-1.007222</td><td>-0.308872</td><td>-0.233003</td><td>-0.269294</td><td>-0.293824</td><td>0.085111</td><td>-0.202413</td><td>-0.13996</td><td>-0.202356</td><td>-0.390565</td><td>-0.191003</td><td>-0.32572</td><td>-0.315909</td><td>-0.351192</td><td>-0.22673</td><td>-0.258154</td><td>-0.254127</td><td>-0.294849</td><td>0.016752</td><td>0.051459</td><td>0.005453</td><td>-0.04603</td><td>-0.056644</td><td>-0.00853</td><td>-0.059096</td><td>0.026087</td><td>-0.024072</td></tr><tr><td>&hellip;</td><td>&hellip;</td><td>&hellip;</td><td>&hellip;</td><td>&hellip;</td><td>&hellip;</td><td>&hellip;</td><td>&hellip;</td><td>&hellip;</td><td>&hellip;</td><td>&hellip;</td><td>&hellip;</td><td>&hellip;</td><td>&hellip;</td><td>&hellip;</td><td>&hellip;</td><td>&hellip;</td><td>&hellip;</td><td>&hellip;</td><td>&hellip;</td><td>&hellip;</td><td>&hellip;</td><td>&hellip;</td><td>&hellip;</td><td>&hellip;</td><td>&hellip;</td><td>&hellip;</td><td>&hellip;</td><td>&hellip;</td><td>&hellip;</td><td>&hellip;</td><td>&hellip;</td><td>&hellip;</td><td>&hellip;</td><td>&hellip;</td><td>&hellip;</td><td>&hellip;</td><td>&hellip;</td><td>&hellip;</td><td>&hellip;</td><td>&hellip;</td><td>&hellip;</td><td>&hellip;</td><td>&hellip;</td><td>&hellip;</td><td>&hellip;</td><td>&hellip;</td><td>&hellip;</td><td>&hellip;</td><td>&hellip;</td><td>&hellip;</td><td>&hellip;</td><td>&hellip;</td><td>&hellip;</td><td>&hellip;</td><td>&hellip;</td><td>&hellip;</td><td>&hellip;</td><td>&hellip;</td><td>&hellip;</td><td>&hellip;</td><td>&hellip;</td><td>&hellip;</td><td>&hellip;</td><td>&hellip;</td><td>&hellip;</td><td>&hellip;</td><td>&hellip;</td><td>&hellip;</td><td>&hellip;</td><td>&hellip;</td><td>&hellip;</td><td>&hellip;</td><td>&hellip;</td><td>&hellip;</td></tr><tr><td>1610.0</td><td>38.0</td><td>1.921609</td><td>-0.260547</td><td>1.97163</td><td>1.963407</td><td>-0.165486</td><td>0.478684</td><td>0.084958</td><td>0.267565</td><td>0.069928</td><td>50.0</td><td>1.0</td><td>522.0</td><td>-0.306406</td><td>-0.177406</td><td>-0.269137</td><td>-0.81576</td><td>-0.67709</td><td>-0.801402</td><td>-0.023522</td><td>0.922245</td><td>-0.796923</td><td>0.081173</td><td>1.273364</td><td>1.13608</td><td>0.459337</td><td>-1.393106</td><td>0.457637</td><td>1.185625</td><td>0.59005</td><td>-0.815582</td><td>-0.775143</td><td>0.074987</td><td>1.496843</td><td>0.281863</td><td>1.534765</td><td>&hellip;</td><td>-0.308313</td><td>-0.304781</td><td>0.642452</td><td>0.14672</td><td>0.41407</td><td>0.70134</td><td>1.213614</td><td>0.654783</td><td>0.075193</td><td>0.279862</td><td>-0.05609</td><td>-0.43802</td><td>-0.352509</td><td>-0.408772</td><td>-0.123969</td><td>0.924154</td><td>-0.372648</td><td>-0.177133</td><td>-0.296284</td><td>-0.186479</td><td>-0.113637</td><td>-0.179365</td><td>-0.272535</td><td>-0.207674</td><td>-0.190615</td><td>-0.13346</td><td>-0.222495</td><td>-0.16474</td><td>-0.017699</td><td>-0.018027</td><td>-0.008555</td><td>-0.151353</td><td>-0.393817</td><td>-0.052898</td><td>-0.17736</td><td>-0.422527</td><td>-0.078944</td></tr><tr><td>1611.0</td><td>38.0</td><td>1.891914</td><td>-0.424961</td><td>1.953139</td><td>1.95799</td><td>-0.227039</td><td>-0.072656</td><td>-0.035831</td><td>-0.16298</td><td>-0.680481</td><td>50.0</td><td>1.0</td><td>522.0</td><td>-0.349452</td><td>-0.192609</td><td>-0.296027</td><td>-0.807429</td><td>-0.670895</td><td>-0.782163</td><td>-1.720434</td><td>0.773475</td><td>-0.691102</td><td>0.049988</td><td>1.577381</td><td>1.326505</td><td>0.542089</td><td>-1.3571</td><td>0.501782</td><td>0.997164</td><td>0.362341</td><td>-0.712539</td><td>-0.635043</td><td>0.047867</td><td>1.2848</td><td>0.278939</td><td>1.282405</td><td>&hellip;</td><td>-0.202648</td><td>-0.132807</td><td>-0.12047</td><td>0.053308</td><td>0.016679</td><td>0.776283</td><td>0.430432</td><td>0.157405</td><td>0.010486</td><td>0.007493</td><td>0.123648</td><td>-0.434678</td><td>-0.349526</td><td>-0.406365</td><td>-1.837585</td><td>0.737588</td><td>-0.359609</td><td>-0.164634</td><td>-0.271194</td><td>-0.318461</td><td>-0.168453</td><td>-0.27888</td><td>-0.21012</td><td>-0.133833</td><td>-0.133695</td><td>-0.067705</td><td>-0.160058</td><td>-0.091796</td><td>0.061395</td><td>0.194869</td><td>0.008266</td><td>-0.053745</td><td>-0.038373</td><td>-0.044216</td><td>-0.081724</td><td>-0.134241</td><td>-0.029543</td></tr><tr><td>1612.0</td><td>38.0</td><td>1.880558</td><td>0.000435</td><td>1.881533</td><td>1.875265</td><td>-0.031914</td><td>0.338107</td><td>0.039593</td><td>0.106788</td><td>-0.723753</td><td>50.0</td><td>1.0</td><td>522.0</td><td>-0.155631</td><td>-0.140028</td><td>-0.196534</td><td>-0.822605</td><td>-0.689385</td><td>-0.798577</td><td>0.825431</td><td>-0.106789</td><td>-0.521687</td><td>0.03602</td><td>0.970869</td><td>1.010741</td><td>0.439493</td><td>-1.043308</td><td>0.294947</td><td>0.975632</td><td>0.723903</td><td>-0.837385</td><td>-0.747746</td><td>0.030112</td><td>1.125367</td><td>-0.397074</td><td>1.227603</td><td>&hellip;</td><td>-0.302671</td><td>-0.212621</td><td>-0.061442</td><td>0.087534</td><td>0.092159</td><td>-0.539102</td><td>-0.234085</td><td>-0.101958</td><td>-0.016645</td><td>-0.013591</td><td>0.297965</td><td>-0.442396</td><td>-0.359468</td><td>-0.41113</td><td>0.783652</td><td>-0.174881</td><td>-0.154225</td><td>-0.116344</td><td>-0.181239</td><td>-0.140725</td><td>-0.118452</td><td>-0.184328</td><td>-0.280637</td><td>-0.324952</td><td>-0.218769</td><td>-0.258753</td><td>-0.244492</td><td>-0.282648</td><td>0.004488</td><td>-0.011124</td><td>0.003292</td><td>0.027862</td><td>0.059238</td><td>0.009678</td><td>0.057212</td><td>0.179281</td><td>0.01401</td></tr><tr><td>1613.0</td><td>38.0</td><td>2.004041</td><td>-0.536685</td><td>2.06376</td><td>2.076772</td><td>-0.206096</td><td>0.646217</td><td>0.083455</td><td>0.322599</td><td>-1.242931</td><td>50.0</td><td>1.0</td><td>522.0</td><td>-0.483388</td><td>-0.249363</td><td>-0.395428</td><td>-0.829211</td><td>-0.681262</td><td>-0.804147</td><td>-2.698264</td><td>0.868849</td><td>-0.607471</td><td>0.058172</td><td>1.51536</td><td>0.843828</td><td>0.662988</td><td>-0.700488</td><td>0.471246</td><td>0.723023</td><td>0.450339</td><td>-0.990749</td><td>-0.635934</td><td>0.049049</td><td>1.162955</td><td>0.549715</td><td>1.117081</td><td>&hellip;</td><td>-0.292217</td><td>-0.215564</td><td>0.431447</td><td>0.148839</td><td>0.315275</td><td>0.752292</td><td>1.066169</td><td>0.374167</td><td>0.045344</td><td>0.18058</td><td>0.139246</td><td>-0.429814</td><td>-0.346802</td><td>-0.408951</td><td>-2.971685</td><td>0.845545</td><td>-0.491527</td><td>-0.218192</td><td>-0.372938</td><td>-0.42716</td><td>-0.199846</td><td>-0.350582</td><td>-0.264128</td><td>-0.14786</td><td>-0.181999</td><td>-0.083953</td><td>-0.209665</td><td>-0.107049</td><td>-0.011158</td><td>-0.086291</td><td>-0.00028</td><td>-0.058713</td><td>-0.148613</td><td>-0.025242</td><td>-0.0668</td><td>-0.141066</td><td>-0.034776</td></tr><tr><td>1614.0</td><td>38.0</td><td>2.046288</td><td>0.64224</td><td>2.027485</td><td>2.021641</td><td>0.110384</td><td>-0.137402</td><td>0.013196</td><td>-0.003117</td><td>0.342737</td><td>50.0</td><td>1.0</td><td>522.0</td><td>-0.390357</td><td>-0.223999</td><td>-0.342871</td><td>-0.82601</td><td>-0.66556</td><td>-0.807012</td><td>0.391276</td><td>-0.352006</td><td>-0.673836</td><td>0.041074</td><td>1.758864</td><td>1.241163</td><td>0.940007</td><td>-0.58895</td><td>0.581285</td><td>0.864469</td><td>0.48145</td><td>-0.871503</td><td>-0.803266</td><td>0.048001</td><td>0.914743</td><td>0.056748</td><td>0.934189</td><td>&hellip;</td><td>-0.29454</td><td>-0.210482</td><td>-0.053068</td><td>0.090228</td><td>0.174022</td><td>-0.361041</td><td>0.100882</td><td>-0.059584</td><td>0.003738</td><td>-0.027923</td><td>0.623443</td><td>-0.432706</td><td>-0.35561</td><td>-0.415324</td><td>0.312866</td><td>-0.418645</td><td>-0.381436</td><td>-0.190264</td><td>-0.30203</td><td>-0.401644</td><td>-0.199644</td><td>-0.34699</td><td>-0.22926</td><td>-0.230196</td><td>-0.180672</td><td>-0.180109</td><td>-0.199341</td><td>-0.20395</td><td>-0.01929</td><td>-0.068972</td><td>-0.013369</td><td>0.023956</td><td>0.096061</td><td>-0.001643</td><td>0.061539</td><td>0.165048</td><td>0.008633</td></tr></tbody></table></div>"
      ],
      "text/plain": [
       "shape: (19_994, 90)\n",
       "┌─────────┬───────────┬────────────┬───────────┬───┬───────────┬───────────┬───────────┬───────────┐\n",
       "│ date_id ┆ symbol_id ┆ feature_00 ┆ feature_0 ┆ … ┆ responder ┆ responder ┆ responder ┆ responder │\n",
       "│ ---     ┆ ---       ┆ ---        ┆ 1         ┆   ┆ _5        ┆ _6        ┆ _7        ┆ _8        │\n",
       "│ f64     ┆ f64       ┆ f64        ┆ ---       ┆   ┆ ---       ┆ ---       ┆ ---       ┆ ---       │\n",
       "│         ┆           ┆            ┆ f64       ┆   ┆ f64       ┆ f64       ┆ f64       ┆ f64       │\n",
       "╞═════════╪═══════════╪════════════╪═══════════╪═══╪═══════════╪═══════════╪═══════════╪═══════════╡\n",
       "│ 553.0   ┆ 0.0       ┆ 2.013941   ┆ 1.292343  ┆ … ┆ 0.156754  ┆ 0.703481  ┆ 1.356552  ┆ 0.290338  │\n",
       "│ 554.0   ┆ 0.0       ┆ 1.308025   ┆ 0.165198  ┆ … ┆ 0.008305  ┆ -0.006774 ┆ -0.155766 ┆ 0.033297  │\n",
       "│ 555.0   ┆ 0.0       ┆ 1.258477   ┆ -0.076692 ┆ … ┆ -0.050435 ┆ -0.173552 ┆ -0.375334 ┆ -0.076376 │\n",
       "│ 556.0   ┆ 0.0       ┆ 1.300598   ┆ -0.435179 ┆ … ┆ -0.053367 ┆ -0.178785 ┆ -0.522276 ┆ -0.075699 │\n",
       "│ 557.0   ┆ 0.0       ┆ 1.3553     ┆ 0.187724  ┆ … ┆ -0.00853  ┆ -0.059096 ┆ 0.026087  ┆ -0.024072 │\n",
       "│ …       ┆ …         ┆ …          ┆ …         ┆ … ┆ …         ┆ …         ┆ …         ┆ …         │\n",
       "│ 1610.0  ┆ 38.0      ┆ 1.921609   ┆ -0.260547 ┆ … ┆ -0.052898 ┆ -0.17736  ┆ -0.422527 ┆ -0.078944 │\n",
       "│ 1611.0  ┆ 38.0      ┆ 1.891914   ┆ -0.424961 ┆ … ┆ -0.044216 ┆ -0.081724 ┆ -0.134241 ┆ -0.029543 │\n",
       "│ 1612.0  ┆ 38.0      ┆ 1.880558   ┆ 0.000435  ┆ … ┆ 0.009678  ┆ 0.057212  ┆ 0.179281  ┆ 0.01401   │\n",
       "│ 1613.0  ┆ 38.0      ┆ 2.004041   ┆ -0.536685 ┆ … ┆ -0.025242 ┆ -0.0668   ┆ -0.141066 ┆ -0.034776 │\n",
       "│ 1614.0  ┆ 38.0      ┆ 2.046288   ┆ 0.64224   ┆ … ┆ -0.001643 ┆ 0.061539  ┆ 0.165048  ┆ 0.008633  │\n",
       "└─────────┴───────────┴────────────┴───────────┴───┴───────────┴───────────┴───────────┴───────────┘"
      ]
     },
     "execution_count": 41,
     "metadata": {},
     "output_type": "execute_result"
    }
   ],
   "source": [
    "ids = ids.cast(pl.Int8)"
   ]
  },
  {
   "cell_type": "markdown",
   "metadata": {},
   "source": [
    "Load in all the train data and drop the `weight` column because it only affects scoring"
   ]
  },
  {
   "cell_type": "code",
   "execution_count": null,
   "metadata": {},
   "outputs": [],
   "source": [
    "# store a linear regression model for each unique symbol_id\n",
    "linreg_models = {}\n",
    "\n",
    "for i in range(len(ids)):\n",
    "    symbol_id = ids[i]\n",
    "    training_data = train[symbol_id]\n",
    "    X_train = training_data.select(pl.all().exclude(\"^responder.*$\"))\n",
    "    X_train.drop_in_place('symbol_id')\n",
    "    Y_train = training_data['responder_6']\n",
    "    reg = LinearRegression().fit(X_train, Y_train)\n",
    "    linreg_models[symbol_id] = reg"
   ]
  },
  {
   "cell_type": "code",
   "execution_count": null,
   "metadata": {},
   "outputs": [],
   "source": [
    "def predict(test, lags):\n",
    "    global lags_\n",
    "    global linreg_models\n",
    "    \n",
    "    if lags is not None:\n",
    "        lags_ = lags\n",
    "\n",
    "    unnecessary_features = ['weight', 'is_scored', 'time_id', 'row_id', 'symbol_id']\n",
    "    predictions = pl.DataFrame()\n",
    "\n",
    "    for i in range(len(test)):\n",
    "        row = test[i]\n",
    "        symbol_id = row['symbol_id'][0]\n",
    "\n",
    "        for feature in unnecessary_features:\n",
    "            row.drop_in_place(feature)\n",
    "\n",
    "        row = row.fill_nan(0).fill_null(0)\n",
    "\n",
    "        linreg_model = linreg_models[symbol_id]\n",
    "        prediction = linreg_model.predict(row)\n",
    "        prediction = pl.DataFrame(prediction)\n",
    "\n",
    "        if predictions.is_empty():\n",
    "            predictions = prediction\n",
    "        else:\n",
    "            predictions.extend(prediction)\n",
    "\n",
    "    predictions = test.with_columns(predictions)\n",
    "    predictions = predictions.rename({'column_0': 'responder_6'})\n",
    "    predictions = predictions.select(pl.col(['row_id', 'responder_6']))\n",
    "    \n",
    "    if isinstance(predictions, pl.DataFrame):\n",
    "        assert predictions.columns == ['row_id', 'responder_6']\n",
    "    elif isinstance(predictions, pd.DataFrame):\n",
    "        assert (predictions.columns == ['row_id', 'responder_6']).all()\n",
    "    else:\n",
    "        raise TypeError('The predict function must return a DataFrame')\n",
    "\n",
    "    assert len(predictions) == len(test)\n",
    "\n",
    "    return predictions"
   ]
  },
  {
   "cell_type": "code",
   "execution_count": null,
   "metadata": {},
   "outputs": [],
   "source": [
    "inference_server = kaggle_evaluation.jane_street_inference_server.JSInferenceServer(predict)\n",
    "\n",
    "if os.getenv('KAGGLE_IS_COMPETITION_RERUN'):\n",
    "    inference_server.serve()\n",
    "else:\n",
    "    inference_server.run_local_gateway(\n",
    "        (\n",
    "            '/kaggle/input/jane-street-real-time-market-data-forecasting/test.parquet',\n",
    "            '/kaggle/input/jane-street-real-time-market-data-forecasting/lags.parquet',\n",
    "        )\n",
    "    )"
   ]
  }
 ],
 "metadata": {
  "kernelspec": {
   "display_name": ".venv",
   "language": "python",
   "name": "python3"
  },
  "language_info": {
   "codemirror_mode": {
    "name": "ipython",
    "version": 3
   },
   "file_extension": ".py",
   "mimetype": "text/x-python",
   "name": "python",
   "nbconvert_exporter": "python",
   "pygments_lexer": "ipython3",
   "version": "3.10.6"
  }
 },
 "nbformat": 4,
 "nbformat_minor": 2
}
